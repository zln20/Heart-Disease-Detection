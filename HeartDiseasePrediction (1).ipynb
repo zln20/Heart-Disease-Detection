{
 "cells": [
  {
   "cell_type": "markdown",
   "metadata": {},
   "source": [
    "# Heart Disease Prediction\n",
    "#### In this model, a dataset of people having different descriptions and health problems is given. Among these, we have to predict which of the given people will get a heart disease in next 10 years, using PyTorch library.\n",
    "## Loading the libraries and dataset"
   ]
  },
  {
   "cell_type": "code",
   "execution_count": 1,
   "metadata": {},
   "outputs": [
    {
     "data": {
      "text/html": [
       "<div>\n",
       "<style scoped>\n",
       "    .dataframe tbody tr th:only-of-type {\n",
       "        vertical-align: middle;\n",
       "    }\n",
       "\n",
       "    .dataframe tbody tr th {\n",
       "        vertical-align: top;\n",
       "    }\n",
       "\n",
       "    .dataframe thead th {\n",
       "        text-align: right;\n",
       "    }\n",
       "</style>\n",
       "<table border=\"1\" class=\"dataframe\">\n",
       "  <thead>\n",
       "    <tr style=\"text-align: right;\">\n",
       "      <th></th>\n",
       "      <th>male</th>\n",
       "      <th>age</th>\n",
       "      <th>education</th>\n",
       "      <th>currentSmoker</th>\n",
       "      <th>cigsPerDay</th>\n",
       "      <th>BPMeds</th>\n",
       "      <th>prevalentStroke</th>\n",
       "      <th>prevalentHyp</th>\n",
       "      <th>diabetes</th>\n",
       "      <th>totChol</th>\n",
       "      <th>sysBP</th>\n",
       "      <th>diaBP</th>\n",
       "      <th>BMI</th>\n",
       "      <th>heartRate</th>\n",
       "      <th>glucose</th>\n",
       "      <th>TenYearCHD</th>\n",
       "    </tr>\n",
       "  </thead>\n",
       "  <tbody>\n",
       "    <tr>\n",
       "      <th>0</th>\n",
       "      <td>1</td>\n",
       "      <td>39</td>\n",
       "      <td>4.0</td>\n",
       "      <td>0</td>\n",
       "      <td>0.0</td>\n",
       "      <td>0.0</td>\n",
       "      <td>0</td>\n",
       "      <td>0</td>\n",
       "      <td>0</td>\n",
       "      <td>195.0</td>\n",
       "      <td>106.0</td>\n",
       "      <td>70.0</td>\n",
       "      <td>26.97</td>\n",
       "      <td>80.0</td>\n",
       "      <td>77.0</td>\n",
       "      <td>0</td>\n",
       "    </tr>\n",
       "    <tr>\n",
       "      <th>1</th>\n",
       "      <td>0</td>\n",
       "      <td>46</td>\n",
       "      <td>2.0</td>\n",
       "      <td>0</td>\n",
       "      <td>0.0</td>\n",
       "      <td>0.0</td>\n",
       "      <td>0</td>\n",
       "      <td>0</td>\n",
       "      <td>0</td>\n",
       "      <td>250.0</td>\n",
       "      <td>121.0</td>\n",
       "      <td>81.0</td>\n",
       "      <td>28.73</td>\n",
       "      <td>95.0</td>\n",
       "      <td>76.0</td>\n",
       "      <td>0</td>\n",
       "    </tr>\n",
       "    <tr>\n",
       "      <th>2</th>\n",
       "      <td>1</td>\n",
       "      <td>48</td>\n",
       "      <td>1.0</td>\n",
       "      <td>1</td>\n",
       "      <td>20.0</td>\n",
       "      <td>0.0</td>\n",
       "      <td>0</td>\n",
       "      <td>0</td>\n",
       "      <td>0</td>\n",
       "      <td>245.0</td>\n",
       "      <td>127.5</td>\n",
       "      <td>80.0</td>\n",
       "      <td>25.34</td>\n",
       "      <td>75.0</td>\n",
       "      <td>70.0</td>\n",
       "      <td>0</td>\n",
       "    </tr>\n",
       "    <tr>\n",
       "      <th>3</th>\n",
       "      <td>0</td>\n",
       "      <td>61</td>\n",
       "      <td>3.0</td>\n",
       "      <td>1</td>\n",
       "      <td>30.0</td>\n",
       "      <td>0.0</td>\n",
       "      <td>0</td>\n",
       "      <td>1</td>\n",
       "      <td>0</td>\n",
       "      <td>225.0</td>\n",
       "      <td>150.0</td>\n",
       "      <td>95.0</td>\n",
       "      <td>28.58</td>\n",
       "      <td>65.0</td>\n",
       "      <td>103.0</td>\n",
       "      <td>1</td>\n",
       "    </tr>\n",
       "    <tr>\n",
       "      <th>4</th>\n",
       "      <td>0</td>\n",
       "      <td>46</td>\n",
       "      <td>3.0</td>\n",
       "      <td>1</td>\n",
       "      <td>23.0</td>\n",
       "      <td>0.0</td>\n",
       "      <td>0</td>\n",
       "      <td>0</td>\n",
       "      <td>0</td>\n",
       "      <td>285.0</td>\n",
       "      <td>130.0</td>\n",
       "      <td>84.0</td>\n",
       "      <td>23.10</td>\n",
       "      <td>85.0</td>\n",
       "      <td>85.0</td>\n",
       "      <td>0</td>\n",
       "    </tr>\n",
       "  </tbody>\n",
       "</table>\n",
       "</div>"
      ],
      "text/plain": [
       "   male  age  education  currentSmoker  cigsPerDay  BPMeds  prevalentStroke  \\\n",
       "0     1   39        4.0              0         0.0     0.0                0   \n",
       "1     0   46        2.0              0         0.0     0.0                0   \n",
       "2     1   48        1.0              1        20.0     0.0                0   \n",
       "3     0   61        3.0              1        30.0     0.0                0   \n",
       "4     0   46        3.0              1        23.0     0.0                0   \n",
       "\n",
       "   prevalentHyp  diabetes  totChol  sysBP  diaBP    BMI  heartRate  glucose  \\\n",
       "0             0         0    195.0  106.0   70.0  26.97       80.0     77.0   \n",
       "1             0         0    250.0  121.0   81.0  28.73       95.0     76.0   \n",
       "2             0         0    245.0  127.5   80.0  25.34       75.0     70.0   \n",
       "3             1         0    225.0  150.0   95.0  28.58       65.0    103.0   \n",
       "4             0         0    285.0  130.0   84.0  23.10       85.0     85.0   \n",
       "\n",
       "   TenYearCHD  \n",
       "0           0  \n",
       "1           0  \n",
       "2           0  \n",
       "3           1  \n",
       "4           0  "
      ]
     },
     "execution_count": 1,
     "metadata": {},
     "output_type": "execute_result"
    }
   ],
   "source": [
    "import pandas as pd\n",
    "import numpy as np\n",
    "import seaborn as sb\n",
    "import matplotlib.pyplot as plt\n",
    "plt.style.use(\"seaborn\")\n",
    "from sklearn.metrics import r2_score\n",
    "from sklearn.metrics import mean_absolute_error as mae\n",
    "\n",
    "train=pd.read_csv(r\"C:\\Users\\samya\\Downloads\\framingham.csv\")\n",
    "train.head()"
   ]
  },
  {
   "cell_type": "markdown",
   "metadata": {},
   "source": [
    "## Checking the duplicate rows"
   ]
  },
  {
   "cell_type": "code",
   "execution_count": 2,
   "metadata": {},
   "outputs": [
    {
     "data": {
      "text/html": [
       "<div>\n",
       "<style scoped>\n",
       "    .dataframe tbody tr th:only-of-type {\n",
       "        vertical-align: middle;\n",
       "    }\n",
       "\n",
       "    .dataframe tbody tr th {\n",
       "        vertical-align: top;\n",
       "    }\n",
       "\n",
       "    .dataframe thead th {\n",
       "        text-align: right;\n",
       "    }\n",
       "</style>\n",
       "<table border=\"1\" class=\"dataframe\">\n",
       "  <thead>\n",
       "    <tr style=\"text-align: right;\">\n",
       "      <th></th>\n",
       "      <th>male</th>\n",
       "      <th>age</th>\n",
       "      <th>education</th>\n",
       "      <th>currentSmoker</th>\n",
       "      <th>cigsPerDay</th>\n",
       "      <th>BPMeds</th>\n",
       "      <th>prevalentStroke</th>\n",
       "      <th>prevalentHyp</th>\n",
       "      <th>diabetes</th>\n",
       "      <th>totChol</th>\n",
       "      <th>sysBP</th>\n",
       "      <th>diaBP</th>\n",
       "      <th>BMI</th>\n",
       "      <th>heartRate</th>\n",
       "      <th>glucose</th>\n",
       "      <th>TenYearCHD</th>\n",
       "    </tr>\n",
       "  </thead>\n",
       "  <tbody>\n",
       "    <tr>\n",
       "      <th>0</th>\n",
       "      <td>1</td>\n",
       "      <td>39</td>\n",
       "      <td>4.0</td>\n",
       "      <td>0</td>\n",
       "      <td>0.0</td>\n",
       "      <td>0.0</td>\n",
       "      <td>0</td>\n",
       "      <td>0</td>\n",
       "      <td>0</td>\n",
       "      <td>195.0</td>\n",
       "      <td>106.0</td>\n",
       "      <td>70.0</td>\n",
       "      <td>26.97</td>\n",
       "      <td>80.0</td>\n",
       "      <td>77.0</td>\n",
       "      <td>0</td>\n",
       "    </tr>\n",
       "    <tr>\n",
       "      <th>1</th>\n",
       "      <td>0</td>\n",
       "      <td>46</td>\n",
       "      <td>2.0</td>\n",
       "      <td>0</td>\n",
       "      <td>0.0</td>\n",
       "      <td>0.0</td>\n",
       "      <td>0</td>\n",
       "      <td>0</td>\n",
       "      <td>0</td>\n",
       "      <td>250.0</td>\n",
       "      <td>121.0</td>\n",
       "      <td>81.0</td>\n",
       "      <td>28.73</td>\n",
       "      <td>95.0</td>\n",
       "      <td>76.0</td>\n",
       "      <td>0</td>\n",
       "    </tr>\n",
       "    <tr>\n",
       "      <th>2</th>\n",
       "      <td>1</td>\n",
       "      <td>48</td>\n",
       "      <td>1.0</td>\n",
       "      <td>1</td>\n",
       "      <td>20.0</td>\n",
       "      <td>0.0</td>\n",
       "      <td>0</td>\n",
       "      <td>0</td>\n",
       "      <td>0</td>\n",
       "      <td>245.0</td>\n",
       "      <td>127.5</td>\n",
       "      <td>80.0</td>\n",
       "      <td>25.34</td>\n",
       "      <td>75.0</td>\n",
       "      <td>70.0</td>\n",
       "      <td>0</td>\n",
       "    </tr>\n",
       "    <tr>\n",
       "      <th>3</th>\n",
       "      <td>0</td>\n",
       "      <td>61</td>\n",
       "      <td>3.0</td>\n",
       "      <td>1</td>\n",
       "      <td>30.0</td>\n",
       "      <td>0.0</td>\n",
       "      <td>0</td>\n",
       "      <td>1</td>\n",
       "      <td>0</td>\n",
       "      <td>225.0</td>\n",
       "      <td>150.0</td>\n",
       "      <td>95.0</td>\n",
       "      <td>28.58</td>\n",
       "      <td>65.0</td>\n",
       "      <td>103.0</td>\n",
       "      <td>1</td>\n",
       "    </tr>\n",
       "    <tr>\n",
       "      <th>4</th>\n",
       "      <td>0</td>\n",
       "      <td>46</td>\n",
       "      <td>3.0</td>\n",
       "      <td>1</td>\n",
       "      <td>23.0</td>\n",
       "      <td>0.0</td>\n",
       "      <td>0</td>\n",
       "      <td>0</td>\n",
       "      <td>0</td>\n",
       "      <td>285.0</td>\n",
       "      <td>130.0</td>\n",
       "      <td>84.0</td>\n",
       "      <td>23.10</td>\n",
       "      <td>85.0</td>\n",
       "      <td>85.0</td>\n",
       "      <td>0</td>\n",
       "    </tr>\n",
       "    <tr>\n",
       "      <th>...</th>\n",
       "      <td>...</td>\n",
       "      <td>...</td>\n",
       "      <td>...</td>\n",
       "      <td>...</td>\n",
       "      <td>...</td>\n",
       "      <td>...</td>\n",
       "      <td>...</td>\n",
       "      <td>...</td>\n",
       "      <td>...</td>\n",
       "      <td>...</td>\n",
       "      <td>...</td>\n",
       "      <td>...</td>\n",
       "      <td>...</td>\n",
       "      <td>...</td>\n",
       "      <td>...</td>\n",
       "      <td>...</td>\n",
       "    </tr>\n",
       "    <tr>\n",
       "      <th>4235</th>\n",
       "      <td>0</td>\n",
       "      <td>48</td>\n",
       "      <td>2.0</td>\n",
       "      <td>1</td>\n",
       "      <td>20.0</td>\n",
       "      <td>NaN</td>\n",
       "      <td>0</td>\n",
       "      <td>0</td>\n",
       "      <td>0</td>\n",
       "      <td>248.0</td>\n",
       "      <td>131.0</td>\n",
       "      <td>72.0</td>\n",
       "      <td>22.00</td>\n",
       "      <td>84.0</td>\n",
       "      <td>86.0</td>\n",
       "      <td>0</td>\n",
       "    </tr>\n",
       "    <tr>\n",
       "      <th>4236</th>\n",
       "      <td>0</td>\n",
       "      <td>44</td>\n",
       "      <td>1.0</td>\n",
       "      <td>1</td>\n",
       "      <td>15.0</td>\n",
       "      <td>0.0</td>\n",
       "      <td>0</td>\n",
       "      <td>0</td>\n",
       "      <td>0</td>\n",
       "      <td>210.0</td>\n",
       "      <td>126.5</td>\n",
       "      <td>87.0</td>\n",
       "      <td>19.16</td>\n",
       "      <td>86.0</td>\n",
       "      <td>NaN</td>\n",
       "      <td>0</td>\n",
       "    </tr>\n",
       "    <tr>\n",
       "      <th>4237</th>\n",
       "      <td>0</td>\n",
       "      <td>52</td>\n",
       "      <td>2.0</td>\n",
       "      <td>0</td>\n",
       "      <td>0.0</td>\n",
       "      <td>0.0</td>\n",
       "      <td>0</td>\n",
       "      <td>0</td>\n",
       "      <td>0</td>\n",
       "      <td>269.0</td>\n",
       "      <td>133.5</td>\n",
       "      <td>83.0</td>\n",
       "      <td>21.47</td>\n",
       "      <td>80.0</td>\n",
       "      <td>107.0</td>\n",
       "      <td>0</td>\n",
       "    </tr>\n",
       "    <tr>\n",
       "      <th>4238</th>\n",
       "      <td>1</td>\n",
       "      <td>40</td>\n",
       "      <td>3.0</td>\n",
       "      <td>0</td>\n",
       "      <td>0.0</td>\n",
       "      <td>0.0</td>\n",
       "      <td>0</td>\n",
       "      <td>1</td>\n",
       "      <td>0</td>\n",
       "      <td>185.0</td>\n",
       "      <td>141.0</td>\n",
       "      <td>98.0</td>\n",
       "      <td>25.60</td>\n",
       "      <td>67.0</td>\n",
       "      <td>72.0</td>\n",
       "      <td>0</td>\n",
       "    </tr>\n",
       "    <tr>\n",
       "      <th>4239</th>\n",
       "      <td>0</td>\n",
       "      <td>39</td>\n",
       "      <td>3.0</td>\n",
       "      <td>1</td>\n",
       "      <td>30.0</td>\n",
       "      <td>0.0</td>\n",
       "      <td>0</td>\n",
       "      <td>0</td>\n",
       "      <td>0</td>\n",
       "      <td>196.0</td>\n",
       "      <td>133.0</td>\n",
       "      <td>86.0</td>\n",
       "      <td>20.91</td>\n",
       "      <td>85.0</td>\n",
       "      <td>80.0</td>\n",
       "      <td>0</td>\n",
       "    </tr>\n",
       "  </tbody>\n",
       "</table>\n",
       "<p>4240 rows × 16 columns</p>\n",
       "</div>"
      ],
      "text/plain": [
       "      male  age  education  currentSmoker  cigsPerDay  BPMeds  \\\n",
       "0        1   39        4.0              0         0.0     0.0   \n",
       "1        0   46        2.0              0         0.0     0.0   \n",
       "2        1   48        1.0              1        20.0     0.0   \n",
       "3        0   61        3.0              1        30.0     0.0   \n",
       "4        0   46        3.0              1        23.0     0.0   \n",
       "...    ...  ...        ...            ...         ...     ...   \n",
       "4235     0   48        2.0              1        20.0     NaN   \n",
       "4236     0   44        1.0              1        15.0     0.0   \n",
       "4237     0   52        2.0              0         0.0     0.0   \n",
       "4238     1   40        3.0              0         0.0     0.0   \n",
       "4239     0   39        3.0              1        30.0     0.0   \n",
       "\n",
       "      prevalentStroke  prevalentHyp  diabetes  totChol  sysBP  diaBP    BMI  \\\n",
       "0                   0             0         0    195.0  106.0   70.0  26.97   \n",
       "1                   0             0         0    250.0  121.0   81.0  28.73   \n",
       "2                   0             0         0    245.0  127.5   80.0  25.34   \n",
       "3                   0             1         0    225.0  150.0   95.0  28.58   \n",
       "4                   0             0         0    285.0  130.0   84.0  23.10   \n",
       "...               ...           ...       ...      ...    ...    ...    ...   \n",
       "4235                0             0         0    248.0  131.0   72.0  22.00   \n",
       "4236                0             0         0    210.0  126.5   87.0  19.16   \n",
       "4237                0             0         0    269.0  133.5   83.0  21.47   \n",
       "4238                0             1         0    185.0  141.0   98.0  25.60   \n",
       "4239                0             0         0    196.0  133.0   86.0  20.91   \n",
       "\n",
       "      heartRate  glucose  TenYearCHD  \n",
       "0          80.0     77.0           0  \n",
       "1          95.0     76.0           0  \n",
       "2          75.0     70.0           0  \n",
       "3          65.0    103.0           1  \n",
       "4          85.0     85.0           0  \n",
       "...         ...      ...         ...  \n",
       "4235       84.0     86.0           0  \n",
       "4236       86.0      NaN           0  \n",
       "4237       80.0    107.0           0  \n",
       "4238       67.0     72.0           0  \n",
       "4239       85.0     80.0           0  \n",
       "\n",
       "[4240 rows x 16 columns]"
      ]
     },
     "execution_count": 2,
     "metadata": {},
     "output_type": "execute_result"
    }
   ],
   "source": [
    "train_duplicate=train.drop_duplicates()\n",
    "train_duplicate"
   ]
  },
  {
   "cell_type": "markdown",
   "metadata": {},
   "source": [
    "## Checking for missing values"
   ]
  },
  {
   "cell_type": "code",
   "execution_count": 3,
   "metadata": {},
   "outputs": [
    {
     "data": {
      "text/plain": [
       "male                 0\n",
       "age                  0\n",
       "education          105\n",
       "currentSmoker        0\n",
       "cigsPerDay          29\n",
       "BPMeds              53\n",
       "prevalentStroke      0\n",
       "prevalentHyp         0\n",
       "diabetes             0\n",
       "totChol             50\n",
       "sysBP                0\n",
       "diaBP                0\n",
       "BMI                 19\n",
       "heartRate            1\n",
       "glucose            388\n",
       "TenYearCHD           0\n",
       "dtype: int64"
      ]
     },
     "execution_count": 3,
     "metadata": {},
     "output_type": "execute_result"
    }
   ],
   "source": [
    "train.isnull().sum()"
   ]
  },
  {
   "cell_type": "markdown",
   "metadata": {},
   "source": [
    "#### Thus, there are missing values in the 'education','cigsPerdDay','BPMeds','totChol','BMI','heartRate' and glucose' columns in the dataset which we are going to fill with median and mode for categorical and continous variables respectively."
   ]
  },
  {
   "cell_type": "markdown",
   "metadata": {},
   "source": [
    "### 'education'"
   ]
  },
  {
   "cell_type": "code",
   "execution_count": 4,
   "metadata": {},
   "outputs": [],
   "source": [
    "train['education'].fillna(train['education'].median(),inplace=True)"
   ]
  },
  {
   "cell_type": "markdown",
   "metadata": {},
   "source": [
    "### 'cigsPerDay'"
   ]
  },
  {
   "cell_type": "code",
   "execution_count": 5,
   "metadata": {},
   "outputs": [],
   "source": [
    "train['cigsPerDay'].fillna(train['cigsPerDay'].median(),inplace=True)"
   ]
  },
  {
   "cell_type": "markdown",
   "metadata": {},
   "source": [
    "### 'BPMeds'"
   ]
  },
  {
   "cell_type": "code",
   "execution_count": 6,
   "metadata": {},
   "outputs": [],
   "source": [
    "train['BPMeds'].fillna(train['BPMeds'].median(),inplace=True)"
   ]
  },
  {
   "cell_type": "markdown",
   "metadata": {},
   "source": [
    "### 'totChol'"
   ]
  },
  {
   "cell_type": "code",
   "execution_count": 7,
   "metadata": {},
   "outputs": [],
   "source": [
    "train['totChol'].fillna(train['totChol'].median(),inplace=True)"
   ]
  },
  {
   "cell_type": "markdown",
   "metadata": {},
   "source": [
    "### 'BMI'"
   ]
  },
  {
   "cell_type": "code",
   "execution_count": 8,
   "metadata": {},
   "outputs": [],
   "source": [
    "train['BMI'].fillna(train['BMI'].median(),inplace=True)"
   ]
  },
  {
   "cell_type": "markdown",
   "metadata": {},
   "source": [
    "### 'heartRate'"
   ]
  },
  {
   "cell_type": "code",
   "execution_count": 9,
   "metadata": {},
   "outputs": [],
   "source": [
    "train['heartRate'].fillna(train['heartRate'].median(),inplace=True)"
   ]
  },
  {
   "cell_type": "markdown",
   "metadata": {},
   "source": [
    "### 'glucose'"
   ]
  },
  {
   "cell_type": "code",
   "execution_count": 10,
   "metadata": {},
   "outputs": [],
   "source": [
    "train['glucose'].fillna(train['glucose'].median(),inplace=True)"
   ]
  },
  {
   "cell_type": "markdown",
   "metadata": {},
   "source": [
    "## Rounding off"
   ]
  },
  {
   "cell_type": "code",
   "execution_count": 11,
   "metadata": {},
   "outputs": [],
   "source": [
    "train[\"totChol\"]=train[\"totChol\"].round()\n",
    "train[\"sysBP\"]=train[\"sysBP\"].round()\n",
    "train[\"diaBP\"]=train[\"diaBP\"].round()\n",
    "train[\"BMI\"]=train[\"BMI\"].round()\n",
    "train[\"heartRate\"]=train[\"heartRate\"].round()\n",
    "train[\"glucose\"]=train[\"glucose\"].round()"
   ]
  },
  {
   "cell_type": "code",
   "execution_count": 12,
   "metadata": {},
   "outputs": [
    {
     "data": {
      "text/plain": [
       "male               0.088374\n",
       "age                0.225408\n",
       "education         -0.053570\n",
       "currentSmoker      0.019448\n",
       "cigsPerDay         0.058729\n",
       "BPMeds             0.086448\n",
       "prevalentStroke    0.061823\n",
       "prevalentHyp       0.177458\n",
       "diabetes           0.097344\n",
       "totChol            0.081749\n",
       "sysBP              0.216387\n",
       "diaBP              0.144870\n",
       "BMI                0.073829\n",
       "heartRate          0.022851\n",
       "glucose            0.121319\n",
       "TenYearCHD         1.000000\n",
       "Name: TenYearCHD, dtype: float64"
      ]
     },
     "execution_count": 12,
     "metadata": {},
     "output_type": "execute_result"
    }
   ],
   "source": [
    "corr_train=train.corr()[\"TenYearCHD\"]\n",
    "corr_train"
   ]
  },
  {
   "cell_type": "code",
   "execution_count": 13,
   "metadata": {},
   "outputs": [],
   "source": [
    "train=train.drop(\"male\",1)\n",
    "train=train.drop(\"education\",1)\n",
    "train=train.drop(\"cigsPerDay\",1)\n",
    "train=train.drop(\"heartRate\",1)"
   ]
  },
  {
   "cell_type": "code",
   "execution_count": 14,
   "metadata": {},
   "outputs": [
    {
     "data": {
      "text/plain": [
       "<AxesSubplot:>"
      ]
     },
     "execution_count": 14,
     "metadata": {},
     "output_type": "execute_result"
    },
    {
     "data": {
      "image/png": "[encoded data removed]",
      "text/plain": [
       "<Figure size 576x396 with 2 Axes>"
      ]
     },
     "metadata": {},
     "output_type": "display_data"
    }
   ],
   "source": [
    "sb.heatmap(train.corr(),annot=True)"
   ]
  },
  {
   "cell_type": "markdown",
   "metadata": {},
   "source": [
    "## Univariate Analysis"
   ]
  },
  {
   "cell_type": "markdown",
   "metadata": {},
   "source": [
    "### 'age'"
   ]
  },
  {
   "cell_type": "code",
   "execution_count": 15,
   "metadata": {},
   "outputs": [
    {
     "data": {
      "text/plain": [
       "count    4240.000000\n",
       "mean       49.580189\n",
       "std         8.572942\n",
       "min        32.000000\n",
       "25%        42.000000\n",
       "50%        49.000000\n",
       "75%        56.000000\n",
       "max        70.000000\n",
       "Name: age, dtype: float64"
      ]
     },
     "execution_count": 15,
     "metadata": {},
     "output_type": "execute_result"
    }
   ],
   "source": [
    "train[\"age\"].describe()"
   ]
  },
  {
   "cell_type": "code",
   "execution_count": 16,
   "metadata": {},
   "outputs": [
    {
     "name": "stderr",
     "output_type": "stream",
     "text": [
      "C:\\Users\\samya\\anaconda3\\lib\\site-packages\\seaborn\\_decorators.py:36: FutureWarning: Pass the following variable as a keyword arg: x. From version 0.12, the only valid positional argument will be `data`, and passing other arguments without an explicit keyword will result in an error or misinterpretation.\n",
      "  warnings.warn(\n"
     ]
    },
    {
     "data": {
      "text/plain": [
       "<AxesSubplot:xlabel='age'>"
      ]
     },
     "execution_count": 16,
     "metadata": {},
     "output_type": "execute_result"
    },
    {
     "data": {
      "image/png": "[encoded data removed]",
      "text/plain": [
       "<Figure size 576x396 with 1 Axes>"
      ]
     },
     "metadata": {},
     "output_type": "display_data"
    }
   ],
   "source": [
    "sb.boxplot(\"age\",data=train)"
   ]
  },
  {
   "cell_type": "markdown",
   "metadata": {},
   "source": [
    "#### Thus, no outliers in 'age'"
   ]
  },
  {
   "cell_type": "markdown",
   "metadata": {},
   "source": [
    "### 'BPMeds'"
   ]
  },
  {
   "cell_type": "code",
   "execution_count": 17,
   "metadata": {},
   "outputs": [
    {
     "data": {
      "text/plain": [
       "count    4240.000000\n",
       "mean        0.029245\n",
       "std         0.168513\n",
       "min         0.000000\n",
       "25%         0.000000\n",
       "50%         0.000000\n",
       "75%         0.000000\n",
       "max         1.000000\n",
       "Name: BPMeds, dtype: float64"
      ]
     },
     "execution_count": 17,
     "metadata": {},
     "output_type": "execute_result"
    }
   ],
   "source": [
    "train[\"BPMeds\"].describe()"
   ]
  },
  {
   "cell_type": "code",
   "execution_count": 18,
   "metadata": {},
   "outputs": [
    {
     "data": {
      "text/plain": [
       "<AxesSubplot:xlabel='BPMeds', ylabel='count'>"
      ]
     },
     "execution_count": 18,
     "metadata": {},
     "output_type": "execute_result"
    },
    {
     "data": {
      "image/png": "[encoded data removed]",
      "text/plain": [
       "<Figure size 576x396 with 1 Axes>"
      ]
     },
     "metadata": {},
     "output_type": "display_data"
    }
   ],
   "source": [
    "sb.countplot(x=\"BPMeds\",data=train)"
   ]
  },
  {
   "cell_type": "markdown",
   "metadata": {},
   "source": [
    "#### Majority of people don't use meds.\n",
    "### 'prevalentStroke'"
   ]
  },
  {
   "cell_type": "code",
   "execution_count": 19,
   "metadata": {},
   "outputs": [
    {
     "data": {
      "text/plain": [
       "count    4240.000000\n",
       "mean        0.005896\n",
       "std         0.076569\n",
       "min         0.000000\n",
       "25%         0.000000\n",
       "50%         0.000000\n",
       "75%         0.000000\n",
       "max         1.000000\n",
       "Name: prevalentStroke, dtype: float64"
      ]
     },
     "execution_count": 19,
     "metadata": {},
     "output_type": "execute_result"
    }
   ],
   "source": [
    "train[\"prevalentStroke\"].describe()"
   ]
  },
  {
   "cell_type": "code",
   "execution_count": 20,
   "metadata": {},
   "outputs": [
    {
     "data": {
      "text/plain": [
       "<AxesSubplot:xlabel='prevalentStroke', ylabel='count'>"
      ]
     },
     "execution_count": 20,
     "metadata": {},
     "output_type": "execute_result"
    },
    {
     "data": {
      "image/png": "[encoded data removed]",
      "text/plain": [
       "<Figure size 576x396 with 1 Axes>"
      ]
     },
     "metadata": {},
     "output_type": "display_data"
    }
   ],
   "source": [
    "sb.countplot(x=\"prevalentStroke\",data=train)"
   ]
  },
  {
   "cell_type": "markdown",
   "metadata": {},
   "source": [
    "#### A very minute amount of people had prevalent stroke.\n",
    "### 'prevalentHyp'"
   ]
  },
  {
   "cell_type": "code",
   "execution_count": 21,
   "metadata": {},
   "outputs": [
    {
     "data": {
      "text/plain": [
       "count    4240.000000\n",
       "mean        0.310613\n",
       "std         0.462799\n",
       "min         0.000000\n",
       "25%         0.000000\n",
       "50%         0.000000\n",
       "75%         1.000000\n",
       "max         1.000000\n",
       "Name: prevalentHyp, dtype: float64"
      ]
     },
     "execution_count": 21,
     "metadata": {},
     "output_type": "execute_result"
    }
   ],
   "source": [
    "train[\"prevalentHyp\"].describe()"
   ]
  },
  {
   "cell_type": "code",
   "execution_count": 22,
   "metadata": {},
   "outputs": [
    {
     "data": {
      "text/plain": [
       "<AxesSubplot:xlabel='prevalentHyp', ylabel='count'>"
      ]
     },
     "execution_count": 22,
     "metadata": {},
     "output_type": "execute_result"
    },
    {
     "data": {
      "image/png": "[encoded data removed]",
      "text/plain": [
       "<Figure size 576x396 with 1 Axes>"
      ]
     },
     "metadata": {},
     "output_type": "display_data"
    }
   ],
   "source": [
    "sb.countplot(x=\"prevalentHyp\",data=train)"
   ]
  },
  {
   "cell_type": "markdown",
   "metadata": {},
   "source": [
    "### 'diabatese'"
   ]
  },
  {
   "cell_type": "code",
   "execution_count": 23,
   "metadata": {},
   "outputs": [
    {
     "data": {
      "text/plain": [
       "count    4240.000000\n",
       "mean        0.025708\n",
       "std         0.158280\n",
       "min         0.000000\n",
       "25%         0.000000\n",
       "50%         0.000000\n",
       "75%         0.000000\n",
       "max         1.000000\n",
       "Name: diabetes, dtype: float64"
      ]
     },
     "execution_count": 23,
     "metadata": {},
     "output_type": "execute_result"
    }
   ],
   "source": [
    "train[\"diabetes\"].describe()"
   ]
  },
  {
   "cell_type": "code",
   "execution_count": 24,
   "metadata": {},
   "outputs": [
    {
     "data": {
      "text/plain": [
       "<AxesSubplot:xlabel='diabetes', ylabel='count'>"
      ]
     },
     "execution_count": 24,
     "metadata": {},
     "output_type": "execute_result"
    },
    {
     "data": {
      "image/png": "[encoded data removed]",
      "text/plain": [
       "<Figure size 576x396 with 1 Axes>"
      ]
     },
     "metadata": {},
     "output_type": "display_data"
    }
   ],
   "source": [
    "sb.countplot(x=\"diabetes\",data=train)"
   ]
  },
  {
   "cell_type": "markdown",
   "metadata": {},
   "source": [
    "#### A very minute amount of people have diabetes\n",
    "### 'totChol'"
   ]
  },
  {
   "cell_type": "code",
   "execution_count": 25,
   "metadata": {},
   "outputs": [
    {
     "data": {
      "text/plain": [
       "count    4240.000000\n",
       "mean      236.667689\n",
       "std        44.328480\n",
       "min       107.000000\n",
       "25%       206.000000\n",
       "50%       234.000000\n",
       "75%       262.000000\n",
       "max       696.000000\n",
       "Name: totChol, dtype: float64"
      ]
     },
     "execution_count": 25,
     "metadata": {},
     "output_type": "execute_result"
    }
   ],
   "source": [
    "train[\"totChol\"].describe()"
   ]
  },
  {
   "cell_type": "code",
   "execution_count": 26,
   "metadata": {},
   "outputs": [
    {
     "data": {
      "text/plain": [
       "<AxesSubplot:xlabel='totChol'>"
      ]
     },
     "execution_count": 26,
     "metadata": {},
     "output_type": "execute_result"
    },
    {
     "data": {
      "image/png": "[encoded data removed]",
      "text/plain": [
       "<Figure size 576x396 with 1 Axes>"
      ]
     },
     "metadata": {},
     "output_type": "display_data"
    }
   ],
   "source": [
    "sb.boxplot(x=\"totChol\",data=train)"
   ]
  },
  {
   "cell_type": "code",
   "execution_count": 27,
   "metadata": {},
   "outputs": [
    {
     "name": "stderr",
     "output_type": "stream",
     "text": [
      "C:\\Users\\samya\\anaconda3\\lib\\site-packages\\pandas\\core\\indexing.py:670: SettingWithCopyWarning: \n",
      "A value is trying to be set on a copy of a slice from a DataFrame\n",
      "\n",
      "See the caveats in the documentation: https://pandas.pydata.org/pandas-docs/stable/user_guide/indexing.html#returning-a-view-versus-a-copy\n",
      "  iloc._setitem_with_indexer(indexer, value)\n",
      "C:\\Users\\samya\\anaconda3\\lib\\site-packages\\pandas\\core\\indexing.py:670: SettingWithCopyWarning: \n",
      "A value is trying to be set on a copy of a slice from a DataFrame\n",
      "\n",
      "See the caveats in the documentation: https://pandas.pydata.org/pandas-docs/stable/user_guide/indexing.html#returning-a-view-versus-a-copy\n",
      "  iloc._setitem_with_indexer(indexer, value)\n"
     ]
    }
   ],
   "source": [
    "train[\"totChol\"].loc[train[\"totChol\"]>350]=train[\"totChol\"].median()\n",
    "train[\"totChol\"].loc[train[\"totChol\"]<125]=train[\"totChol\"].median()"
   ]
  },
  {
   "cell_type": "code",
   "execution_count": 28,
   "metadata": {},
   "outputs": [
    {
     "data": {
      "text/plain": [
       "<AxesSubplot:xlabel='totChol'>"
      ]
     },
     "execution_count": 28,
     "metadata": {},
     "output_type": "execute_result"
    },
    {
     "data": {
      "image/png": "[encoded data removed]",
      "text/plain": [
       "<Figure size 576x396 with 1 Axes>"
      ]
     },
     "metadata": {},
     "output_type": "display_data"
    }
   ],
   "source": [
    "sb.boxplot(x=\"totChol\",data=train)"
   ]
  },
  {
   "cell_type": "markdown",
   "metadata": {},
   "source": [
    "#### All the outliers are corrected\n",
    "### 'BMI'"
   ]
  },
  {
   "cell_type": "code",
   "execution_count": 29,
   "metadata": {},
   "outputs": [
    {
     "data": {
      "text/plain": [
       "count    4240.000000\n",
       "mean       25.798349\n",
       "std         4.084637\n",
       "min        16.000000\n",
       "25%        23.000000\n",
       "50%        25.000000\n",
       "75%        28.000000\n",
       "max        57.000000\n",
       "Name: BMI, dtype: float64"
      ]
     },
     "execution_count": 29,
     "metadata": {},
     "output_type": "execute_result"
    }
   ],
   "source": [
    "train[\"BMI\"].describe()"
   ]
  },
  {
   "cell_type": "code",
   "execution_count": 30,
   "metadata": {},
   "outputs": [
    {
     "data": {
      "text/plain": [
       "<AxesSubplot:xlabel='BMI'>"
      ]
     },
     "execution_count": 30,
     "metadata": {},
     "output_type": "execute_result"
    },
    {
     "data": {
      "image/png": "[encoded data removed]",
      "text/plain": [
       "<Figure size 576x396 with 1 Axes>"
      ]
     },
     "metadata": {},
     "output_type": "display_data"
    }
   ],
   "source": [
    "sb.boxplot(x=\"BMI\",data=train)"
   ]
  },
  {
   "cell_type": "markdown",
   "metadata": {},
   "source": [
    "#### There are many outliers here but we can't correct them with the median as these values will help in predicting the target variable."
   ]
  },
  {
   "cell_type": "markdown",
   "metadata": {},
   "source": [
    "### 'TenYearCHD'"
   ]
  },
  {
   "cell_type": "code",
   "execution_count": 31,
   "metadata": {},
   "outputs": [
    {
     "data": {
      "text/plain": [
       "count    4240.000000\n",
       "mean        0.151887\n",
       "std         0.358953\n",
       "min         0.000000\n",
       "25%         0.000000\n",
       "50%         0.000000\n",
       "75%         0.000000\n",
       "max         1.000000\n",
       "Name: TenYearCHD, dtype: float64"
      ]
     },
     "execution_count": 31,
     "metadata": {},
     "output_type": "execute_result"
    }
   ],
   "source": [
    "train[\"TenYearCHD\"].describe()"
   ]
  },
  {
   "cell_type": "code",
   "execution_count": 32,
   "metadata": {},
   "outputs": [
    {
     "data": {
      "text/plain": [
       "<AxesSubplot:xlabel='TenYearCHD', ylabel='count'>"
      ]
     },
     "execution_count": 32,
     "metadata": {},
     "output_type": "execute_result"
    },
    {
     "data": {
      "image/png": "[encoded data removed]",
      "text/plain": [
       "<Figure size 576x396 with 1 Axes>"
      ]
     },
     "metadata": {},
     "output_type": "display_data"
    }
   ],
   "source": [
    "sb.countplot(x=\"TenYearCHD\",data=train)"
   ]
  },
  {
   "cell_type": "markdown",
   "metadata": {},
   "source": [
    "#### Thus, people having CHD are lower in number.\n",
    "## Bivariate Analysis between target variable and "
   ]
  },
  {
   "cell_type": "markdown",
   "metadata": {},
   "source": [
    "### 'age'"
   ]
  },
  {
   "cell_type": "code",
   "execution_count": 33,
   "metadata": {},
   "outputs": [
    {
     "data": {
      "text/plain": [
       "age\n",
       "32    0.000000\n",
       "33    0.000000\n",
       "34    0.000000\n",
       "35    0.047619\n",
       "36    0.035714\n",
       "37    0.043478\n",
       "38    0.055556\n",
       "39    0.035294\n",
       "40    0.078125\n",
       "41    0.063218\n",
       "42    0.077778\n",
       "43    0.081761\n",
       "44    0.096386\n",
       "45    0.086420\n",
       "46    0.087912\n",
       "47    0.163121\n",
       "48    0.121387\n",
       "49    0.181818\n",
       "50    0.164286\n",
       "51    0.198630\n",
       "52    0.214765\n",
       "53    0.165468\n",
       "54    0.136364\n",
       "55    0.165517\n",
       "56    0.219512\n",
       "57    0.211382\n",
       "58    0.264957\n",
       "59    0.252101\n",
       "60    0.234234\n",
       "61    0.227273\n",
       "62    0.252525\n",
       "63    0.290909\n",
       "64    0.225806\n",
       "65    0.350877\n",
       "66    0.394737\n",
       "67    0.377778\n",
       "68    0.444444\n",
       "69    0.142857\n",
       "70    0.500000\n",
       "Name: TenYearCHD, dtype: float64"
      ]
     },
     "execution_count": 33,
     "metadata": {},
     "output_type": "execute_result"
    }
   ],
   "source": [
    "train.groupby(\"age\")[\"TenYearCHD\"].mean()"
   ]
  },
  {
   "cell_type": "code",
   "execution_count": 34,
   "metadata": {},
   "outputs": [
    {
     "data": {
      "text/plain": [
       "<AxesSubplot:xlabel='age', ylabel='TenYearCHD'>"
      ]
     },
     "execution_count": 34,
     "metadata": {},
     "output_type": "execute_result"
    },
    {
     "data": {
      "image/png": "[encoded data removed]",
      "text/plain": [
       "<Figure size 576x396 with 1 Axes>"
      ]
     },
     "metadata": {},
     "output_type": "display_data"
    }
   ],
   "source": [
    "sb.barplot(x=\"age\",y=\"TenYearCHD\",data=train)"
   ]
  },
  {
   "cell_type": "markdown",
   "metadata": {},
   "source": [
    "#### Thus, the chances of CHD increases with an increase in age"
   ]
  },
  {
   "cell_type": "markdown",
   "metadata": {},
   "source": [
    "### 'currentSmoker'"
   ]
  },
  {
   "cell_type": "code",
   "execution_count": 35,
   "metadata": {},
   "outputs": [
    {
     "data": {
      "text/plain": [
       "currentSmoker\n",
       "0    0.144988\n",
       "1    0.158950\n",
       "Name: TenYearCHD, dtype: float64"
      ]
     },
     "execution_count": 35,
     "metadata": {},
     "output_type": "execute_result"
    }
   ],
   "source": [
    "train.groupby(\"currentSmoker\")[\"TenYearCHD\"].mean()"
   ]
  },
  {
   "cell_type": "code",
   "execution_count": 36,
   "metadata": {},
   "outputs": [
    {
     "data": {
      "text/plain": [
       "<AxesSubplot:xlabel='currentSmoker', ylabel='TenYearCHD'>"
      ]
     },
     "execution_count": 36,
     "metadata": {},
     "output_type": "execute_result"
    },
    {
     "data": {
      "image/png": "[encoded data removed]",
      "text/plain": [
       "<Figure size 576x396 with 1 Axes>"
      ]
     },
     "metadata": {},
     "output_type": "display_data"
    }
   ],
   "source": [
    "sb.barplot(x=\"currentSmoker\",y=\"TenYearCHD\",data=train)"
   ]
  },
  {
   "cell_type": "markdown",
   "metadata": {},
   "source": [
    "#### Thus, the chances of getting CHD of smokers are higher.\n",
    "### 'BPMeds'"
   ]
  },
  {
   "cell_type": "code",
   "execution_count": 37,
   "metadata": {},
   "outputs": [
    {
     "data": {
      "text/plain": [
       "BPMeds\n",
       "0.0    0.146501\n",
       "1.0    0.330645\n",
       "Name: TenYearCHD, dtype: float64"
      ]
     },
     "execution_count": 37,
     "metadata": {},
     "output_type": "execute_result"
    }
   ],
   "source": [
    "train.groupby(\"BPMeds\")[\"TenYearCHD\"].mean()"
   ]
  },
  {
   "cell_type": "code",
   "execution_count": 38,
   "metadata": {},
   "outputs": [
    {
     "data": {
      "text/plain": [
       "<AxesSubplot:xlabel='BPMeds', ylabel='TenYearCHD'>"
      ]
     },
     "execution_count": 38,
     "metadata": {},
     "output_type": "execute_result"
    },
    {
     "data": {
      "image/png": "[encoded data removed]",
      "text/plain": [
       "<Figure size 576x396 with 1 Axes>"
      ]
     },
     "metadata": {},
     "output_type": "display_data"
    }
   ],
   "source": [
    "sb.barplot(x=\"BPMeds\",y=\"TenYearCHD\",data=train)"
   ]
  },
  {
   "cell_type": "markdown",
   "metadata": {},
   "source": [
    "#### Thus, people taking meds have highers chances.\n",
    "### 'prevalentStroke'"
   ]
  },
  {
   "cell_type": "code",
   "execution_count": 39,
   "metadata": {},
   "outputs": [
    {
     "data": {
      "text/plain": [
       "prevalentStroke\n",
       "0    0.150178\n",
       "1    0.440000\n",
       "Name: TenYearCHD, dtype: float64"
      ]
     },
     "execution_count": 39,
     "metadata": {},
     "output_type": "execute_result"
    }
   ],
   "source": [
    "train.groupby(\"prevalentStroke\")[\"TenYearCHD\"].mean()"
   ]
  },
  {
   "cell_type": "code",
   "execution_count": 40,
   "metadata": {},
   "outputs": [
    {
     "data": {
      "text/plain": [
       "<AxesSubplot:xlabel='prevalentStroke', ylabel='TenYearCHD'>"
      ]
     },
     "execution_count": 40,
     "metadata": {},
     "output_type": "execute_result"
    },
    {
     "data": {
      "image/png": "[encoded data removed]",
      "text/plain": [
       "<Figure size 576x396 with 1 Axes>"
      ]
     },
     "metadata": {},
     "output_type": "display_data"
    }
   ],
   "source": [
    "sb.barplot(x=\"prevalentStroke\",y=\"TenYearCHD\",data=train)"
   ]
  },
  {
   "cell_type": "markdown",
   "metadata": {},
   "source": [
    "#### Thus, people having prevalent strokes have higher chances to get CHD.\n",
    "### 'prevalentHyp'"
   ]
  },
  {
   "cell_type": "code",
   "execution_count": 41,
   "metadata": {},
   "outputs": [
    {
     "data": {
      "text/plain": [
       "prevalentHyp\n",
       "0    0.109134\n",
       "1    0.246773\n",
       "Name: TenYearCHD, dtype: float64"
      ]
     },
     "execution_count": 41,
     "metadata": {},
     "output_type": "execute_result"
    }
   ],
   "source": [
    "train.groupby(\"prevalentHyp\")[\"TenYearCHD\"].mean()"
   ]
  },
  {
   "cell_type": "code",
   "execution_count": 42,
   "metadata": {},
   "outputs": [
    {
     "data": {
      "text/plain": [
       "<AxesSubplot:xlabel='prevalentHyp', ylabel='TenYearCHD'>"
      ]
     },
     "execution_count": 42,
     "metadata": {},
     "output_type": "execute_result"
    },
    {
     "data": {
      "image/png": "[encoded data removed]",
      "text/plain": [
       "<Figure size 576x396 with 1 Axes>"
      ]
     },
     "metadata": {},
     "output_type": "display_data"
    }
   ],
   "source": [
    "sb.barplot(x=\"prevalentHyp\",y=\"TenYearCHD\",data=train)"
   ]
  },
  {
   "cell_type": "markdown",
   "metadata": {},
   "source": [
    "### 'diabetes'"
   ]
  },
  {
   "cell_type": "code",
   "execution_count": 43,
   "metadata": {},
   "outputs": [
    {
     "data": {
      "text/plain": [
       "diabetes\n",
       "0    0.146212\n",
       "1    0.366972\n",
       "Name: TenYearCHD, dtype: float64"
      ]
     },
     "execution_count": 43,
     "metadata": {},
     "output_type": "execute_result"
    }
   ],
   "source": [
    "train.groupby(\"diabetes\")[\"TenYearCHD\"].mean()"
   ]
  },
  {
   "cell_type": "code",
   "execution_count": 44,
   "metadata": {},
   "outputs": [
    {
     "data": {
      "text/plain": [
       "<AxesSubplot:xlabel='TenYearCHD', ylabel='diabetes'>"
      ]
     },
     "execution_count": 44,
     "metadata": {},
     "output_type": "execute_result"
    },
    {
     "data": {
      "image/png": "[encoded data removed]",
      "text/plain": [
       "<Figure size 576x396 with 1 Axes>"
      ]
     },
     "metadata": {},
     "output_type": "display_data"
    }
   ],
   "source": [
    "sb.barplot(x=\"TenYearCHD\",y=\"diabetes\",data=train)"
   ]
  },
  {
   "cell_type": "markdown",
   "metadata": {},
   "source": [
    "#### Thus, people having higher diabetes value have higher chances of CHD.\n",
    "### 'totChol'"
   ]
  },
  {
   "cell_type": "code",
   "execution_count": 45,
   "metadata": {},
   "outputs": [
    {
     "data": {
      "text/plain": [
       "totChol\n",
       "126.0    0.000000\n",
       "129.0    0.000000\n",
       "133.0    1.000000\n",
       "135.0    0.000000\n",
       "137.0    0.000000\n",
       "           ...   \n",
       "344.0    0.000000\n",
       "345.0    0.200000\n",
       "346.0    0.285714\n",
       "347.0    0.000000\n",
       "350.0    0.333333\n",
       "Name: TenYearCHD, Length: 208, dtype: float64"
      ]
     },
     "execution_count": 45,
     "metadata": {},
     "output_type": "execute_result"
    }
   ],
   "source": [
    "train.groupby(\"totChol\")[\"TenYearCHD\"].mean()"
   ]
  },
  {
   "cell_type": "code",
   "execution_count": 46,
   "metadata": {},
   "outputs": [
    {
     "data": {
      "text/plain": [
       "<AxesSubplot:xlabel='TenYearCHD', ylabel='totChol'>"
      ]
     },
     "execution_count": 46,
     "metadata": {},
     "output_type": "execute_result"
    },
    {
     "data": {
      "image/png": "[encoded data removed]",
      "text/plain": [
       "<Figure size 576x396 with 1 Axes>"
      ]
     },
     "metadata": {},
     "output_type": "display_data"
    }
   ],
   "source": [
    "sb.barplot(x=\"TenYearCHD\",y=\"totChol\",data=train)"
   ]
  },
  {
   "cell_type": "markdown",
   "metadata": {},
   "source": [
    "### 'BMI'"
   ]
  },
  {
   "cell_type": "code",
   "execution_count": 47,
   "metadata": {},
   "outputs": [
    {
     "data": {
      "text/plain": [
       "BMI\n",
       "16.0    0.333333\n",
       "17.0    0.294118\n",
       "18.0    0.054054\n",
       "19.0    0.119048\n",
       "20.0    0.147436\n",
       "21.0    0.117647\n",
       "22.0    0.113333\n",
       "23.0    0.136253\n",
       "24.0    0.113043\n",
       "25.0    0.155983\n",
       "26.0    0.163311\n",
       "27.0    0.128947\n",
       "28.0    0.170807\n",
       "29.0    0.191336\n",
       "30.0    0.234043\n",
       "31.0    0.162393\n",
       "32.0    0.127660\n",
       "33.0    0.239437\n",
       "34.0    0.272727\n",
       "35.0    0.146341\n",
       "36.0    0.052632\n",
       "37.0    0.266667\n",
       "38.0    0.250000\n",
       "39.0    0.357143\n",
       "40.0    0.285714\n",
       "41.0    0.400000\n",
       "42.0    0.250000\n",
       "43.0    0.333333\n",
       "44.0    0.250000\n",
       "45.0    0.000000\n",
       "46.0    0.000000\n",
       "51.0    0.000000\n",
       "57.0    1.000000\n",
       "Name: TenYearCHD, dtype: float64"
      ]
     },
     "execution_count": 47,
     "metadata": {},
     "output_type": "execute_result"
    }
   ],
   "source": [
    "train.groupby(\"BMI\")[\"TenYearCHD\"].mean()"
   ]
  },
  {
   "cell_type": "code",
   "execution_count": 48,
   "metadata": {},
   "outputs": [
    {
     "data": {
      "text/plain": [
       "<AxesSubplot:xlabel='TenYearCHD', ylabel='BMI'>"
      ]
     },
     "execution_count": 48,
     "metadata": {},
     "output_type": "execute_result"
    },
    {
     "data": {
      "image/png": "[encoded data removed]",
      "text/plain": [
       "<Figure size 576x396 with 1 Axes>"
      ]
     },
     "metadata": {},
     "output_type": "display_data"
    }
   ],
   "source": [
    "sb.barplot(x=\"TenYearCHD\",y=\"BMI\",data=train)"
   ]
  },
  {
   "cell_type": "markdown",
   "metadata": {},
   "source": [
    "## Converting into x and y"
   ]
  },
  {
   "cell_type": "code",
   "execution_count": 49,
   "metadata": {},
   "outputs": [],
   "source": [
    "x=train.drop([\"TenYearCHD\"],axis=1)\n",
    "\n",
    "y=train[\"TenYearCHD\"]"
   ]
  },
  {
   "cell_type": "markdown",
   "metadata": {},
   "source": [
    "## Scaling the data"
   ]
  },
  {
   "cell_type": "code",
   "execution_count": 50,
   "metadata": {},
   "outputs": [],
   "source": [
    "from sklearn.preprocessing import StandardScaler\n",
    "ss=StandardScaler()\n",
    "\n",
    "scaled_x=ss.fit_transform(x)\n",
    "x=pd.DataFrame(scaled_x,columns=x.columns)"
   ]
  },
  {
   "cell_type": "code",
   "execution_count": 51,
   "metadata": {},
   "outputs": [
    {
     "data": {
      "text/html": [
       "<div>\n",
       "<style scoped>\n",
       "    .dataframe tbody tr th:only-of-type {\n",
       "        vertical-align: middle;\n",
       "    }\n",
       "\n",
       "    .dataframe tbody tr th {\n",
       "        vertical-align: top;\n",
       "    }\n",
       "\n",
       "    .dataframe thead th {\n",
       "        text-align: right;\n",
       "    }\n",
       "</style>\n",
       "<table border=\"1\" class=\"dataframe\">\n",
       "  <thead>\n",
       "    <tr style=\"text-align: right;\">\n",
       "      <th></th>\n",
       "      <th>age</th>\n",
       "      <th>currentSmoker</th>\n",
       "      <th>BPMeds</th>\n",
       "      <th>prevalentStroke</th>\n",
       "      <th>prevalentHyp</th>\n",
       "      <th>diabetes</th>\n",
       "      <th>totChol</th>\n",
       "      <th>sysBP</th>\n",
       "      <th>diaBP</th>\n",
       "      <th>BMI</th>\n",
       "      <th>glucose</th>\n",
       "    </tr>\n",
       "  </thead>\n",
       "  <tbody>\n",
       "    <tr>\n",
       "      <th>0</th>\n",
       "      <td>-1.234283</td>\n",
       "      <td>-0.988276</td>\n",
       "      <td>-0.173569</td>\n",
       "      <td>-0.077014</td>\n",
       "      <td>-0.671241</td>\n",
       "      <td>-0.162437</td>\n",
       "      <td>-0.988602</td>\n",
       "      <td>-1.196296</td>\n",
       "      <td>-1.082500</td>\n",
       "      <td>0.294223</td>\n",
       "      <td>-0.201287</td>\n",
       "    </tr>\n",
       "    <tr>\n",
       "      <th>1</th>\n",
       "      <td>-0.417664</td>\n",
       "      <td>-0.988276</td>\n",
       "      <td>-0.173569</td>\n",
       "      <td>-0.077014</td>\n",
       "      <td>-0.671241</td>\n",
       "      <td>-0.162437</td>\n",
       "      <td>0.372170</td>\n",
       "      <td>-0.515390</td>\n",
       "      <td>-0.158864</td>\n",
       "      <td>0.783920</td>\n",
       "      <td>-0.245036</td>\n",
       "    </tr>\n",
       "    <tr>\n",
       "      <th>2</th>\n",
       "      <td>-0.184345</td>\n",
       "      <td>1.011863</td>\n",
       "      <td>-0.173569</td>\n",
       "      <td>-0.077014</td>\n",
       "      <td>-0.671241</td>\n",
       "      <td>-0.162437</td>\n",
       "      <td>0.248463</td>\n",
       "      <td>-0.197634</td>\n",
       "      <td>-0.242831</td>\n",
       "      <td>-0.195475</td>\n",
       "      <td>-0.507530</td>\n",
       "    </tr>\n",
       "    <tr>\n",
       "      <th>3</th>\n",
       "      <td>1.332233</td>\n",
       "      <td>1.011863</td>\n",
       "      <td>-0.173569</td>\n",
       "      <td>-0.077014</td>\n",
       "      <td>1.489778</td>\n",
       "      <td>-0.162437</td>\n",
       "      <td>-0.246363</td>\n",
       "      <td>0.801028</td>\n",
       "      <td>1.016673</td>\n",
       "      <td>0.783920</td>\n",
       "      <td>0.936188</td>\n",
       "    </tr>\n",
       "    <tr>\n",
       "      <th>4</th>\n",
       "      <td>-0.417664</td>\n",
       "      <td>1.011863</td>\n",
       "      <td>-0.173569</td>\n",
       "      <td>-0.077014</td>\n",
       "      <td>-0.671241</td>\n",
       "      <td>-0.162437</td>\n",
       "      <td>1.238115</td>\n",
       "      <td>-0.106847</td>\n",
       "      <td>0.093037</td>\n",
       "      <td>-0.685172</td>\n",
       "      <td>0.148705</td>\n",
       "    </tr>\n",
       "  </tbody>\n",
       "</table>\n",
       "</div>"
      ],
      "text/plain": [
       "        age  currentSmoker    BPMeds  prevalentStroke  prevalentHyp  diabetes  \\\n",
       "0 -1.234283      -0.988276 -0.173569        -0.077014     -0.671241 -0.162437   \n",
       "1 -0.417664      -0.988276 -0.173569        -0.077014     -0.671241 -0.162437   \n",
       "2 -0.184345       1.011863 -0.173569        -0.077014     -0.671241 -0.162437   \n",
       "3  1.332233       1.011863 -0.173569        -0.077014      1.489778 -0.162437   \n",
       "4 -0.417664       1.011863 -0.173569        -0.077014     -0.671241 -0.162437   \n",
       "\n",
       "    totChol     sysBP     diaBP       BMI   glucose  \n",
       "0 -0.988602 -1.196296 -1.082500  0.294223 -0.201287  \n",
       "1  0.372170 -0.515390 -0.158864  0.783920 -0.245036  \n",
       "2  0.248463 -0.197634 -0.242831 -0.195475 -0.507530  \n",
       "3 -0.246363  0.801028  1.016673  0.783920  0.936188  \n",
       "4  1.238115 -0.106847  0.093037 -0.685172  0.148705  "
      ]
     },
     "execution_count": 51,
     "metadata": {},
     "output_type": "execute_result"
    }
   ],
   "source": [
    "x.head()"
   ]
  },
  {
   "cell_type": "code",
   "execution_count": 52,
   "metadata": {},
   "outputs": [
    {
     "data": {
      "text/plain": [
       "0    0\n",
       "1    0\n",
       "2    0\n",
       "3    1\n",
       "4    0\n",
       "Name: TenYearCHD, dtype: int64"
      ]
     },
     "execution_count": 52,
     "metadata": {},
     "output_type": "execute_result"
    }
   ],
   "source": [
    "y.head()"
   ]
  },
  {
   "cell_type": "markdown",
   "metadata": {},
   "source": [
    "## Creating train and test data for x and y"
   ]
  },
  {
   "cell_type": "code",
   "execution_count": 53,
   "metadata": {},
   "outputs": [],
   "source": [
    "from sklearn.model_selection import train_test_split as tts\n",
    "train_x,test_x,train_y,test_y=tts(x,y,random_state=20,test_size=0.1)"
   ]
  },
  {
   "cell_type": "code",
   "execution_count": 54,
   "metadata": {},
   "outputs": [
    {
     "data": {
      "text/plain": [
       "((3816, 11), (3816,), (424, 11), (424,))"
      ]
     },
     "execution_count": 54,
     "metadata": {},
     "output_type": "execute_result"
    }
   ],
   "source": [
    "train_x.shape,train_y.shape,test_x.shape,test_y.shape"
   ]
  },
  {
   "cell_type": "markdown",
   "metadata": {},
   "source": [
    "## Creating tensors"
   ]
  },
  {
   "cell_type": "code",
   "execution_count": 55,
   "metadata": {},
   "outputs": [],
   "source": [
    "import torch\n",
    "import torch.nn.functional as fl\n",
    "import torch.nn as nn\n",
    "\n",
    "train_x=torch.FloatTensor(train_x.values)\n",
    "train_y=torch.FloatTensor(train_y.values)\n",
    "test_x=torch.FloatTensor(test_x.values)\n",
    "test_y=torch.FloatTensor(test_y.values)"
   ]
  },
  {
   "cell_type": "markdown",
   "metadata": {},
   "source": [
    "## Model Building"
   ]
  },
  {
   "cell_type": "markdown",
   "metadata": {},
   "source": [
    "### Creating ANN class"
   ]
  },
  {
   "cell_type": "code",
   "execution_count": 56,
   "metadata": {},
   "outputs": [],
   "source": [
    "class model(nn.Module):\n",
    "    def __init__(self):\n",
    "        super().__init__()\n",
    "        self.d1=nn.Linear(11,16)\n",
    "        self.d2=nn.Linear(16,16)\n",
    "        self.f=nn.Linear(16,1)\n",
    "    def forward(self,x):\n",
    "        x=fl.relu(self.d1(x))\n",
    "        x=fl.relu(self.d2(x))\n",
    "        x=torch.sigmoid(self.f(x))\n",
    "        return x\n",
    "model=model()"
   ]
  },
  {
   "cell_type": "code",
   "execution_count": 57,
   "metadata": {},
   "outputs": [
    {
     "data": {
      "text/plain": [
       "<bound method Module.parameters of model(\n",
       "  (d1): Linear(in_features=11, out_features=16, bias=True)\n",
       "  (d2): Linear(in_features=16, out_features=16, bias=True)\n",
       "  (f): Linear(in_features=16, out_features=1, bias=True)\n",
       ")>"
      ]
     },
     "execution_count": 57,
     "metadata": {},
     "output_type": "execute_result"
    }
   ],
   "source": [
    "model.parameters"
   ]
  },
  {
   "cell_type": "code",
   "execution_count": 58,
   "metadata": {},
   "outputs": [],
   "source": [
    "loss_function=nn.BCELoss()\n",
    "optimizer=torch.optim.Adam(model.parameters())"
   ]
  },
  {
   "cell_type": "code",
   "execution_count": 59,
   "metadata": {},
   "outputs": [
    {
     "name": "stderr",
     "output_type": "stream",
     "text": [
      "100%|█████████████████████████████████████████████████████████████████████████████████| 50/50 [00:00<00:00, 427.44it/s]"
     ]
    },
    {
     "name": "stdout",
     "output_type": "stream",
     "text": [
      "loss= tensor(0.6605, grad_fn=<BinaryCrossEntropyBackward>)\n",
      "loss= tensor(0.6578, grad_fn=<BinaryCrossEntropyBackward>)\n",
      "loss= tensor(0.6550, grad_fn=<BinaryCrossEntropyBackward>)\n",
      "loss= tensor(0.6522, grad_fn=<BinaryCrossEntropyBackward>)\n",
      "loss= tensor(0.6495, grad_fn=<BinaryCrossEntropyBackward>)\n",
      "loss= tensor(0.6467, grad_fn=<BinaryCrossEntropyBackward>)\n",
      "loss= tensor(0.6440, grad_fn=<BinaryCrossEntropyBackward>)\n",
      "loss= tensor(0.6413, grad_fn=<BinaryCrossEntropyBackward>)\n",
      "loss= tensor(0.6385, grad_fn=<BinaryCrossEntropyBackward>)\n",
      "loss= tensor(0.6358, grad_fn=<BinaryCrossEntropyBackward>)\n",
      "loss= tensor(0.6331, grad_fn=<BinaryCrossEntropyBackward>)\n",
      "loss= tensor(0.6303, grad_fn=<BinaryCrossEntropyBackward>)\n",
      "loss= tensor(0.6276, grad_fn=<BinaryCrossEntropyBackward>)\n",
      "loss= tensor(0.6249, grad_fn=<BinaryCrossEntropyBackward>)\n",
      "loss= tensor(0.6222, grad_fn=<BinaryCrossEntropyBackward>)\n",
      "loss= tensor(0.6194, grad_fn=<BinaryCrossEntropyBackward>)\n",
      "loss= tensor(0.6167, grad_fn=<BinaryCrossEntropyBackward>)\n",
      "loss= tensor(0.6140, grad_fn=<BinaryCrossEntropyBackward>)\n",
      "loss= tensor(0.6113, grad_fn=<BinaryCrossEntropyBackward>)\n",
      "loss= tensor(0.6086, grad_fn=<BinaryCrossEntropyBackward>)\n",
      "loss= tensor(0.6059, grad_fn=<BinaryCrossEntropyBackward>)\n",
      "loss= tensor(0.6031, grad_fn=<BinaryCrossEntropyBackward>)\n",
      "loss= tensor(0.6004, grad_fn=<BinaryCrossEntropyBackward>)\n",
      "loss= tensor(0.5977, grad_fn=<BinaryCrossEntropyBackward>)\n",
      "loss= tensor(0.5949, grad_fn=<BinaryCrossEntropyBackward>)\n",
      "loss= tensor(0.5922, grad_fn=<BinaryCrossEntropyBackward>)\n",
      "loss= tensor(0.5894, grad_fn=<BinaryCrossEntropyBackward>)\n",
      "loss= tensor(0.5867, grad_fn=<BinaryCrossEntropyBackward>)\n",
      "loss= tensor(0.5839, grad_fn=<BinaryCrossEntropyBackward>)\n",
      "loss= tensor(0.5811, grad_fn=<BinaryCrossEntropyBackward>)\n",
      "loss= tensor(0.5783, grad_fn=<BinaryCrossEntropyBackward>)\n",
      "loss= tensor(0.5755, grad_fn=<BinaryCrossEntropyBackward>)\n",
      "loss= tensor(0.5727, grad_fn=<BinaryCrossEntropyBackward>)\n",
      "loss= tensor(0.5698, grad_fn=<BinaryCrossEntropyBackward>)\n",
      "loss= tensor(0.5670, grad_fn=<BinaryCrossEntropyBackward>)\n",
      "loss= tensor(0.5641, grad_fn=<BinaryCrossEntropyBackward>)\n",
      "loss= tensor(0.5613, grad_fn=<BinaryCrossEntropyBackward>)\n",
      "loss= tensor(0.5584, grad_fn=<BinaryCrossEntropyBackward>)\n",
      "loss= tensor(0.5555, grad_fn=<BinaryCrossEntropyBackward>)\n",
      "loss= tensor(0.5526, grad_fn=<BinaryCrossEntropyBackward>)\n",
      "loss= tensor(0.5497, grad_fn=<BinaryCrossEntropyBackward>)\n",
      "loss= tensor(0.5467, grad_fn=<BinaryCrossEntropyBackward>)\n",
      "loss= tensor(0.5438, grad_fn=<BinaryCrossEntropyBackward>)\n",
      "loss= tensor(0.5408, grad_fn=<BinaryCrossEntropyBackward>)\n",
      "loss= tensor(0.5378, grad_fn=<BinaryCrossEntropyBackward>)\n",
      "loss= tensor(0.5348, grad_fn=<BinaryCrossEntropyBackward>)\n",
      "loss= tensor(0.5318, grad_fn=<BinaryCrossEntropyBackward>)\n",
      "loss= tensor(0.5288, grad_fn=<BinaryCrossEntropyBackward>)\n",
      "loss= tensor(0.5258, grad_fn=<BinaryCrossEntropyBackward>)\n",
      "loss= tensor(0.5227, grad_fn=<BinaryCrossEntropyBackward>)\n"
     ]
    },
    {
     "name": "stderr",
     "output_type": "stream",
     "text": [
      "\n"
     ]
    }
   ],
   "source": [
    "from tqdm import tqdm\n",
    "epochs=50\n",
    "for i in tqdm(range(epochs)):\n",
    "    i=i+1\n",
    "    pred_train=model(train_x)\n",
    "    loss=loss_function(pred_train.squeeze(),train_y)\n",
    "    print(\"loss=\",loss)\n",
    "    optimizer.zero_grad()\n",
    "    loss.backward()\n",
    "    optimizer.step()"
   ]
  },
  {
   "cell_type": "code",
   "execution_count": 60,
   "metadata": {},
   "outputs": [],
   "source": [
    "pred_train=pred_train.detach().numpy()\n",
    "pred_train=pd.DataFrame(pred_train,columns=[\"pred\"])\n",
    "pred_train[\"pred\"]=pred_train[\"pred\"].apply(lambda x:0 if x<0.5 else 1)"
   ]
  },
  {
   "cell_type": "code",
   "execution_count": 61,
   "metadata": {},
   "outputs": [
    {
     "name": "stdout",
     "output_type": "stream",
     "text": [
      "The training score is= 85.03668763102725 %\n"
     ]
    }
   ],
   "source": [
    "from sklearn.metrics import accuracy_score\n",
    "print(\"The training score is=\",100*accuracy_score(pred_train,train_y),\"%\")"
   ]
  },
  {
   "cell_type": "code",
   "execution_count": 62,
   "metadata": {},
   "outputs": [
    {
     "name": "stderr",
     "output_type": "stream",
     "text": [
      "  0%|                                                                                           | 0/50 [00:00<?, ?it/s]"
     ]
    },
    {
     "name": "stdout",
     "output_type": "stream",
     "text": [
      "loss= tensor(0.5358, grad_fn=<BinaryCrossEntropyBackward>)\n",
      "loss= tensor(0.5331, grad_fn=<BinaryCrossEntropyBackward>)\n",
      "loss= tensor(0.5303, grad_fn=<BinaryCrossEntropyBackward>)\n",
      "loss= tensor(0.5276, grad_fn=<BinaryCrossEntropyBackward>)\n",
      "loss= tensor(0.5249, grad_fn=<BinaryCrossEntropyBackward>)\n",
      "loss= tensor(0.5221, grad_fn=<BinaryCrossEntropyBackward>)\n",
      "loss= tensor(0.5194, grad_fn=<BinaryCrossEntropyBackward>)\n",
      "loss= tensor(0.5167, grad_fn=<BinaryCrossEntropyBackward>)\n",
      "loss= tensor(0.5141, grad_fn=<BinaryCrossEntropyBackward>)\n",
      "loss= tensor(0.5115, grad_fn=<BinaryCrossEntropyBackward>)\n",
      "loss= tensor(0.5089, grad_fn=<BinaryCrossEntropyBackward>)\n",
      "loss= tensor(0.5063, grad_fn=<BinaryCrossEntropyBackward>)\n",
      "loss= tensor(0.5038, grad_fn=<BinaryCrossEntropyBackward>)\n",
      "loss= tensor(0.5013, grad_fn=<BinaryCrossEntropyBackward>)\n",
      "loss= tensor(0.4988, grad_fn=<BinaryCrossEntropyBackward>)"
     ]
    },
    {
     "name": "stderr",
     "output_type": "stream",
     "text": [
      "100%|█████████████████████████████████████████████████████████████████████████████████| 50/50 [00:00<00:00, 846.38it/s]"
     ]
    },
    {
     "name": "stdout",
     "output_type": "stream",
     "text": [
      "\n",
      "loss= tensor(0.4963, grad_fn=<BinaryCrossEntropyBackward>)\n",
      "loss= tensor(0.4939, grad_fn=<BinaryCrossEntropyBackward>)\n",
      "loss= tensor(0.4915, grad_fn=<BinaryCrossEntropyBackward>)\n",
      "loss= tensor(0.4892, grad_fn=<BinaryCrossEntropyBackward>)\n",
      "loss= tensor(0.4869, grad_fn=<BinaryCrossEntropyBackward>)\n",
      "loss= tensor(0.4846, grad_fn=<BinaryCrossEntropyBackward>)\n",
      "loss= tensor(0.4823, grad_fn=<BinaryCrossEntropyBackward>)\n",
      "loss= tensor(0.4801, grad_fn=<BinaryCrossEntropyBackward>)\n",
      "loss= tensor(0.4780, grad_fn=<BinaryCrossEntropyBackward>)\n",
      "loss= tensor(0.4759, grad_fn=<BinaryCrossEntropyBackward>)\n",
      "loss= tensor(0.4738, grad_fn=<BinaryCrossEntropyBackward>)\n",
      "loss= tensor(0.4717, grad_fn=<BinaryCrossEntropyBackward>)\n",
      "loss= tensor(0.4698, grad_fn=<BinaryCrossEntropyBackward>)\n",
      "loss= tensor(0.4678, grad_fn=<BinaryCrossEntropyBackward>)\n",
      "loss= tensor(0.4659, grad_fn=<BinaryCrossEntropyBackward>)\n",
      "loss= tensor(0.4641, grad_fn=<BinaryCrossEntropyBackward>)\n",
      "loss= tensor(0.4623, grad_fn=<BinaryCrossEntropyBackward>)\n",
      "loss= tensor(0.4606, grad_fn=<BinaryCrossEntropyBackward>)\n",
      "loss= tensor(0.4589, grad_fn=<BinaryCrossEntropyBackward>)\n",
      "loss= tensor(0.4573, grad_fn=<BinaryCrossEntropyBackward>)\n",
      "loss= tensor(0.4557, grad_fn=<BinaryCrossEntropyBackward>)\n",
      "loss= tensor(0.4541, grad_fn=<BinaryCrossEntropyBackward>)\n",
      "loss= tensor(0.4527, grad_fn=<BinaryCrossEntropyBackward>)\n",
      "loss= tensor(0.4512, grad_fn=<BinaryCrossEntropyBackward>)\n",
      "loss= tensor(0.4498, grad_fn=<BinaryCrossEntropyBackward>)\n",
      "loss= tensor(0.4485, grad_fn=<BinaryCrossEntropyBackward>)\n",
      "loss= tensor(0.4472, grad_fn=<BinaryCrossEntropyBackward>)\n",
      "loss= tensor(0.4459, grad_fn=<BinaryCrossEntropyBackward>)\n",
      "loss= tensor(0.4447, grad_fn=<BinaryCrossEntropyBackward>)\n",
      "loss= tensor(0.4435, grad_fn=<BinaryCrossEntropyBackward>)\n",
      "loss= tensor(0.4424, grad_fn=<BinaryCrossEntropyBackward>)\n",
      "loss= tensor(0.4413, grad_fn=<BinaryCrossEntropyBackward>)\n",
      "loss= tensor(0.4403, grad_fn=<BinaryCrossEntropyBackward>)\n",
      "loss= tensor(0.4392, grad_fn=<BinaryCrossEntropyBackward>)\n",
      "loss= tensor(0.4382, grad_fn=<BinaryCrossEntropyBackward>)\n"
     ]
    },
    {
     "name": "stderr",
     "output_type": "stream",
     "text": [
      "\n"
     ]
    }
   ],
   "source": [
    "from tqdm import tqdm\n",
    "epochs=50\n",
    "for i in tqdm(range(epochs)):\n",
    "    i=i+1\n",
    "    pred_test=model(test_x)\n",
    "    loss=loss_function(pred_test.squeeze(),test_y)\n",
    "    print(\"loss=\",loss)\n",
    "    optimizer.zero_grad()\n",
    "    loss.backward()\n",
    "    optimizer.step()"
   ]
  },
  {
   "cell_type": "code",
   "execution_count": 63,
   "metadata": {},
   "outputs": [],
   "source": [
    "pred_test=pred_test.detach().numpy()\n",
    "pred_test=pd.DataFrame(pred_test,columns=[\"pred\"])\n",
    "pred_test[\"pred\"]=pred_test[\"pred\"].apply(lambda x:0 if x<0.5 else 1)"
   ]
  },
  {
   "cell_type": "code",
   "execution_count": 64,
   "metadata": {},
   "outputs": [
    {
     "name": "stdout",
     "output_type": "stream",
     "text": [
      "The test score is= 82.78301886792453 %\n"
     ]
    }
   ],
   "source": [
    "print(\"The test score is=\",100*accuracy_score(pred_test,test_y),\"%\")"
   ]
  },
  {
   "cell_type": "markdown",
   "metadata": {},
   "source": [
    "#### Thus, as we can see our model is 82.8% effective."
   ]
  }
 ],
 "metadata": {
  "kernelspec": {
   "display_name": "Python 3",
   "language": "python",
   "name": "python3"
  },
  "language_info": {
   "codemirror_mode": {
    "name": "ipython",
    "version": 3
   },
   "file_extension": ".py",
   "mimetype": "text/x-python",
   "name": "python",
   "nbconvert_exporter": "python",
   "pygments_lexer": "ipython3",
   "version": "3.8.5"
  }
 },
 "nbformat": 4,
 "nbformat_minor": 4
}
